{
 "cells": [
  {
   "cell_type": "markdown",
   "metadata": {},
   "source": [
    "# Project 2\n",
    "## Parisa Gandomkar Yarandi\n",
    "### December 2016"
   ]
  },
  {
   "cell_type": "markdown",
   "metadata": {},
   "source": [
    "## Agenda: \n",
    "\n",
    "### What is the problem?\n",
    "#### The Iowa State legislature is considering changes in the liquor tax rates and wants a report of current liquor sales by county and projections for the rest of the year.\n",
    "\n"
   ]
  },
  {
   "cell_type": "markdown",
   "metadata": {},
   "source": [
    "## What is the solution?"
   ]
  },
  {
   "cell_type": "markdown",
   "metadata": {},
   "source": [
    "\n",
    "# Getting started\n",
    "\n",
    "Once you've chosen your scenario, download the data from the Iowa website in csv format. Start by loading the data with pandas. You may need to parse the date columns appropriately."
   ]
  },
  {
   "cell_type": "code",
   "execution_count": 1,
   "metadata": {
    "collapsed": true
   },
   "outputs": [],
   "source": [
    "# import libraries\n",
    "import pandas as pd\n",
    "import numpy as np\n",
    "import pandas as pd\n",
    "import patsy\n",
    "\n",
    "from sklearn.metrics import classification_report, confusion_matrix, accuracy_score\n",
    "from sklearn.cross_validation import train_test_split\n",
    "from sklearn.linear_model import LogisticRegression, LogisticRegressionCV\n",
    "from sklearn.grid_search import GridSearchCV\n",
    "\n"
   ]
  },
  {
   "cell_type": "markdown",
   "metadata": {},
   "source": [
    "# Import data (10%)"
   ]
  },
  {
   "cell_type": "code",
   "execution_count": 2,
   "metadata": {
    "collapsed": false
   },
   "outputs": [],
   "source": [
    "data_store = pd.read_csv('/Users/generalassembly/Desktop/Iowa_Liquor_sales_sample_10pct.csv')\n",
    "data_test = pd.read_csv('/Users/generalassembly/Desktop/Iowa_Liquor_sales_sample_10pct.csv')\n"
   ]
  },
  {
   "cell_type": "code",
   "execution_count": 3,
   "metadata": {
    "collapsed": false
   },
   "outputs": [
    {
     "data": {
      "text/plain": [
       "(270955, 18)"
      ]
     },
     "execution_count": 3,
     "metadata": {},
     "output_type": "execute_result"
    }
   ],
   "source": [
    "# info about datasets\n",
    "data_store.shape"
   ]
  },
  {
   "cell_type": "code",
   "execution_count": 4,
   "metadata": {
    "collapsed": false,
    "scrolled": true
   },
   "outputs": [
    {
     "data": {
      "text/html": [
       "<div>\n",
       "<table border=\"1\" class=\"dataframe\">\n",
       "  <thead>\n",
       "    <tr style=\"text-align: right;\">\n",
       "      <th></th>\n",
       "      <th>Date</th>\n",
       "      <th>Store Number</th>\n",
       "      <th>City</th>\n",
       "      <th>Zip Code</th>\n",
       "      <th>County Number</th>\n",
       "      <th>County</th>\n",
       "      <th>Category</th>\n",
       "      <th>Category Name</th>\n",
       "      <th>Vendor Number</th>\n",
       "      <th>Item Number</th>\n",
       "      <th>Item Description</th>\n",
       "      <th>Bottle Volume (ml)</th>\n",
       "      <th>State Bottle Cost</th>\n",
       "      <th>State Bottle Retail</th>\n",
       "      <th>Bottles Sold</th>\n",
       "      <th>Sale (Dollars)</th>\n",
       "      <th>Volume Sold (Liters)</th>\n",
       "      <th>Volume Sold (Gallons)</th>\n",
       "    </tr>\n",
       "  </thead>\n",
       "  <tbody>\n",
       "    <tr>\n",
       "      <th>0</th>\n",
       "      <td>11/04/2015</td>\n",
       "      <td>3717</td>\n",
       "      <td>SUMNER</td>\n",
       "      <td>50674</td>\n",
       "      <td>9.0</td>\n",
       "      <td>Bremer</td>\n",
       "      <td>1051100.0</td>\n",
       "      <td>APRICOT BRANDIES</td>\n",
       "      <td>55</td>\n",
       "      <td>54436</td>\n",
       "      <td>Mr. Boston Apricot Brandy</td>\n",
       "      <td>750</td>\n",
       "      <td>$4.50</td>\n",
       "      <td>$6.75</td>\n",
       "      <td>12</td>\n",
       "      <td>$81.00</td>\n",
       "      <td>9.0</td>\n",
       "      <td>2.38</td>\n",
       "    </tr>\n",
       "    <tr>\n",
       "      <th>1</th>\n",
       "      <td>03/02/2016</td>\n",
       "      <td>2614</td>\n",
       "      <td>DAVENPORT</td>\n",
       "      <td>52807</td>\n",
       "      <td>82.0</td>\n",
       "      <td>Scott</td>\n",
       "      <td>1011100.0</td>\n",
       "      <td>BLENDED WHISKIES</td>\n",
       "      <td>395</td>\n",
       "      <td>27605</td>\n",
       "      <td>Tin Cup</td>\n",
       "      <td>750</td>\n",
       "      <td>$13.75</td>\n",
       "      <td>$20.63</td>\n",
       "      <td>2</td>\n",
       "      <td>$41.26</td>\n",
       "      <td>1.5</td>\n",
       "      <td>0.40</td>\n",
       "    </tr>\n",
       "    <tr>\n",
       "      <th>2</th>\n",
       "      <td>02/11/2016</td>\n",
       "      <td>2106</td>\n",
       "      <td>CEDAR FALLS</td>\n",
       "      <td>50613</td>\n",
       "      <td>7.0</td>\n",
       "      <td>Black Hawk</td>\n",
       "      <td>1011200.0</td>\n",
       "      <td>STRAIGHT BOURBON WHISKIES</td>\n",
       "      <td>65</td>\n",
       "      <td>19067</td>\n",
       "      <td>Jim Beam</td>\n",
       "      <td>1000</td>\n",
       "      <td>$12.59</td>\n",
       "      <td>$18.89</td>\n",
       "      <td>24</td>\n",
       "      <td>$453.36</td>\n",
       "      <td>24.0</td>\n",
       "      <td>6.34</td>\n",
       "    </tr>\n",
       "    <tr>\n",
       "      <th>3</th>\n",
       "      <td>02/03/2016</td>\n",
       "      <td>2501</td>\n",
       "      <td>AMES</td>\n",
       "      <td>50010</td>\n",
       "      <td>85.0</td>\n",
       "      <td>Story</td>\n",
       "      <td>1071100.0</td>\n",
       "      <td>AMERICAN COCKTAILS</td>\n",
       "      <td>395</td>\n",
       "      <td>59154</td>\n",
       "      <td>1800 Ultimate Margarita</td>\n",
       "      <td>1750</td>\n",
       "      <td>$9.50</td>\n",
       "      <td>$14.25</td>\n",
       "      <td>6</td>\n",
       "      <td>$85.50</td>\n",
       "      <td>10.5</td>\n",
       "      <td>2.77</td>\n",
       "    </tr>\n",
       "    <tr>\n",
       "      <th>4</th>\n",
       "      <td>08/18/2015</td>\n",
       "      <td>3654</td>\n",
       "      <td>BELMOND</td>\n",
       "      <td>50421</td>\n",
       "      <td>99.0</td>\n",
       "      <td>Wright</td>\n",
       "      <td>1031080.0</td>\n",
       "      <td>VODKA 80 PROOF</td>\n",
       "      <td>297</td>\n",
       "      <td>35918</td>\n",
       "      <td>Five O'clock Vodka</td>\n",
       "      <td>1750</td>\n",
       "      <td>$7.20</td>\n",
       "      <td>$10.80</td>\n",
       "      <td>12</td>\n",
       "      <td>$129.60</td>\n",
       "      <td>21.0</td>\n",
       "      <td>5.55</td>\n",
       "    </tr>\n",
       "  </tbody>\n",
       "</table>\n",
       "</div>"
      ],
      "text/plain": [
       "         Date  Store Number         City Zip Code  County Number      County  \\\n",
       "0  11/04/2015          3717       SUMNER    50674            9.0      Bremer   \n",
       "1  03/02/2016          2614    DAVENPORT    52807           82.0       Scott   \n",
       "2  02/11/2016          2106  CEDAR FALLS    50613            7.0  Black Hawk   \n",
       "3  02/03/2016          2501         AMES    50010           85.0       Story   \n",
       "4  08/18/2015          3654      BELMOND    50421           99.0      Wright   \n",
       "\n",
       "    Category              Category Name  Vendor Number  Item Number  \\\n",
       "0  1051100.0           APRICOT BRANDIES             55        54436   \n",
       "1  1011100.0           BLENDED WHISKIES            395        27605   \n",
       "2  1011200.0  STRAIGHT BOURBON WHISKIES             65        19067   \n",
       "3  1071100.0         AMERICAN COCKTAILS            395        59154   \n",
       "4  1031080.0             VODKA 80 PROOF            297        35918   \n",
       "\n",
       "            Item Description  Bottle Volume (ml) State Bottle Cost  \\\n",
       "0  Mr. Boston Apricot Brandy                 750             $4.50   \n",
       "1                    Tin Cup                 750            $13.75   \n",
       "2                   Jim Beam                1000            $12.59   \n",
       "3    1800 Ultimate Margarita                1750             $9.50   \n",
       "4         Five O'clock Vodka                1750             $7.20   \n",
       "\n",
       "  State Bottle Retail  Bottles Sold Sale (Dollars)  Volume Sold (Liters)  \\\n",
       "0               $6.75            12         $81.00                   9.0   \n",
       "1              $20.63             2         $41.26                   1.5   \n",
       "2              $18.89            24        $453.36                  24.0   \n",
       "3              $14.25             6         $85.50                  10.5   \n",
       "4              $10.80            12        $129.60                  21.0   \n",
       "\n",
       "   Volume Sold (Gallons)  \n",
       "0                   2.38  \n",
       "1                   0.40  \n",
       "2                   6.34  \n",
       "3                   2.77  \n",
       "4                   5.55  "
      ]
     },
     "execution_count": 4,
     "metadata": {},
     "output_type": "execute_result"
    }
   ],
   "source": [
    "# info about datasets\n",
    "data_store.head()\n"
   ]
  },
  {
   "cell_type": "code",
   "execution_count": 5,
   "metadata": {
    "collapsed": true
   },
   "outputs": [],
   "source": [
    "# Drop unnecessary column\n",
    "data_test= data_test.drop(['County Number'], axis=1)\n",
    "\n"
   ]
  },
  {
   "cell_type": "code",
   "execution_count": 6,
   "metadata": {
    "collapsed": false
   },
   "outputs": [
    {
     "data": {
      "text/plain": [
       "(270955, 17)"
      ]
     },
     "execution_count": 6,
     "metadata": {},
     "output_type": "execute_result"
    }
   ],
   "source": [
    "data_test.shape"
   ]
  },
  {
   "cell_type": "code",
   "execution_count": 7,
   "metadata": {
    "collapsed": true
   },
   "outputs": [],
   "source": [
    "# rename the columns\n",
    "\n",
    "data_test.rename(columns=lambda x: x.replace(' ', '_'), inplace=True)"
   ]
  },
  {
   "cell_type": "code",
   "execution_count": 8,
   "metadata": {
    "collapsed": false
   },
   "outputs": [],
   "source": [
    "#Refine Date\n",
    "\n",
    "data_test['Seprate_date']=pd.to_datetime(data_test['Date'])"
   ]
  },
  {
   "cell_type": "code",
   "execution_count": 9,
   "metadata": {
    "collapsed": false
   },
   "outputs": [
    {
     "data": {
      "text/plain": [
       "1777"
      ]
     },
     "execution_count": 9,
     "metadata": {},
     "output_type": "execute_result"
    }
   ],
   "source": [
    "# number of total NAN\n",
    "%timeit \n",
    "\n",
    "data_test.isnull().values.sum()"
   ]
  },
  {
   "cell_type": "code",
   "execution_count": 10,
   "metadata": {
    "collapsed": false
   },
   "outputs": [
    {
     "data": {
      "text/plain": [
       "Date                     False\n",
       "Store_Number             False\n",
       "City                     False\n",
       "Zip_Code                 False\n",
       "County                    True\n",
       "Category                  True\n",
       "Category_Name             True\n",
       "Vendor_Number            False\n",
       "Item_Number              False\n",
       "Item_Description         False\n",
       "Bottle_Volume_(ml)       False\n",
       "State_Bottle_Cost        False\n",
       "State_Bottle_Retail      False\n",
       "Bottles_Sold             False\n",
       "Sale_(Dollars)           False\n",
       "Volume_Sold_(Liters)     False\n",
       "Volume_Sold_(Gallons)    False\n",
       "Seprate_date             False\n",
       "dtype: bool"
      ]
     },
     "execution_count": 10,
     "metadata": {},
     "output_type": "execute_result"
    }
   ],
   "source": [
    "#which columns have NAN in the test data\n",
    "data_test.isnull().any()\n"
   ]
  },
  {
   "cell_type": "code",
   "execution_count": 11,
   "metadata": {
    "collapsed": false
   },
   "outputs": [
    {
     "data": {
      "text/plain": [
       "Date                        0\n",
       "Store_Number                0\n",
       "City                        0\n",
       "Zip_Code                    0\n",
       "County                   1077\n",
       "Category                   68\n",
       "Category_Name             632\n",
       "Vendor_Number               0\n",
       "Item_Number                 0\n",
       "Item_Description            0\n",
       "Bottle_Volume_(ml)          0\n",
       "State_Bottle_Cost           0\n",
       "State_Bottle_Retail         0\n",
       "Bottles_Sold                0\n",
       "Sale_(Dollars)              0\n",
       "Volume_Sold_(Liters)        0\n",
       "Volume_Sold_(Gallons)       0\n",
       "Seprate_date                0\n",
       "dtype: int64"
      ]
     },
     "execution_count": 11,
     "metadata": {},
     "output_type": "execute_result"
    }
   ],
   "source": [
    "#number of NAN in each column (test data)\n",
    "data_test.isnull().sum()"
   ]
  },
  {
   "cell_type": "markdown",
   "metadata": {},
   "source": [
    "# Cleaning Data"
   ]
  },
  {
   "cell_type": "code",
   "execution_count": null,
   "metadata": {
    "collapsed": true
   },
   "outputs": [],
   "source": [
    "# create new copies \n",
    "import copy\n",
    "df_test = copy.deepcopy(data_test)\n",
    "df_test.head()"
   ]
  },
  {
   "cell_type": "code",
   "execution_count": null,
   "metadata": {
    "collapsed": true
   },
   "outputs": [],
   "source": [
    "# Drop NA and duplicated\n",
    "df_test_drop = df_test.dropna()\n",
    "df_test_drop_duplicated=df_test_drop.sort('City').drop_duplicates(subset=['City'], take_last=True)"
   ]
  },
  {
   "cell_type": "code",
   "execution_count": 16,
   "metadata": {
    "collapsed": false
   },
   "outputs": [],
   "source": [
    "#Create a Dictionary Key:City Value:County\n",
    "dic_data_city = dict(zip(df_test_drop_duplicated['City'], df_test_drop_duplicated['County'])) "
   ]
  },
  {
   "cell_type": "code",
   "execution_count": null,
   "metadata": {
    "collapsed": true
   },
   "outputs": [],
   "source": [
    "# fill NAN. if the county missing, look up the dictionary and find the value for the  city\n",
    "df_test.County = df_test.County.fillna(df_test['City'].map(dic_data_city))\n",
    "df_test.head()"
   ]
  },
  {
   "cell_type": "code",
   "execution_count": null,
   "metadata": {
    "collapsed": true
   },
   "outputs": [],
   "source": [
    "# test to check how dictionary works (198 was NAN)\n",
    "df_test['County'][190:200]"
   ]
  },
  {
   "cell_type": "code",
   "execution_count": 20,
   "metadata": {
    "collapsed": false
   },
   "outputs": [
    {
     "data": {
      "text/plain": [
       "Date                       0\n",
       "Store_Number               0\n",
       "City                       0\n",
       "Zip_Code                   0\n",
       "County                    12\n",
       "Category                  68\n",
       "Category_Name            632\n",
       "Vendor_Number              0\n",
       "Item_Number                0\n",
       "Item_Description           0\n",
       "Bottle_Volume_(ml)         0\n",
       "State_Bottle_Cost          0\n",
       "State_Bottle_Retail        0\n",
       "Bottles_Sold               0\n",
       "Sale_(Dollars)             0\n",
       "Volume_Sold_(Liters)       0\n",
       "Volume_Sold_(Gallons)      0\n",
       "Seprate_date               0\n",
       "dtype: int64"
      ]
     },
     "execution_count": 20,
     "metadata": {},
     "output_type": "execute_result"
    }
   ],
   "source": [
    "df_test.isnull().sum()"
   ]
  },
  {
   "cell_type": "markdown",
   "metadata": {},
   "source": [
    "# make a second dictionary"
   ]
  },
  {
   "cell_type": "code",
   "execution_count": null,
   "metadata": {
    "collapsed": true
   },
   "outputs": [],
   "source": [
    "# Drop NA and duplicated\n",
    "df_test_drop_duplicated2=df_test_drop.sort('Category').drop_duplicates(subset=['Category'], take_last=True)"
   ]
  },
  {
   "cell_type": "code",
   "execution_count": 22,
   "metadata": {
    "collapsed": false
   },
   "outputs": [],
   "source": [
    "#Create a Dictionary Key:Category Value:Category_name\n",
    "dic_data_Category = dict(zip(df_test_drop_duplicated2['Category'], df_test_drop_duplicated2['Category_Name'])) "
   ]
  },
  {
   "cell_type": "code",
   "execution_count": 23,
   "metadata": {
    "collapsed": false
   },
   "outputs": [],
   "source": [
    "# find a value base on ey in the dictionary\n",
    "dic_data_Category.get(1082100.0)"
   ]
  },
  {
   "cell_type": "code",
   "execution_count": null,
   "metadata": {
    "collapsed": true
   },
   "outputs": [],
   "source": [
    "# fill NAN. if the county missing, look up the dictionary and find the value for the  Category_Name\n",
    "df_test.Category_Name = df_test.Category_Name.fillna(df_test['Category'].map(dic_data_Category))\n",
    "df_test.head()\n",
    "\n"
   ]
  },
  {
   "cell_type": "code",
   "execution_count": 25,
   "metadata": {
    "collapsed": false
   },
   "outputs": [
    {
     "data": {
      "text/plain": [
       "Date                       0\n",
       "Store_Number               0\n",
       "City                       0\n",
       "Zip_Code                   0\n",
       "County                    12\n",
       "Category                  68\n",
       "Category_Name            632\n",
       "Vendor_Number              0\n",
       "Item_Number                0\n",
       "Item_Description           0\n",
       "Bottle_Volume_(ml)         0\n",
       "State_Bottle_Cost          0\n",
       "State_Bottle_Retail        0\n",
       "Bottles_Sold               0\n",
       "Sale_(Dollars)             0\n",
       "Volume_Sold_(Liters)       0\n",
       "Volume_Sold_(Gallons)      0\n",
       "Seprate_date               0\n",
       "dtype: int64"
      ]
     },
     "execution_count": 25,
     "metadata": {},
     "output_type": "execute_result"
    }
   ],
   "source": [
    "# test to see how the second category works - results= no changes\n",
    "\n",
    "df_test.isnull().sum()"
   ]
  },
  {
   "cell_type": "code",
   "execution_count": null,
   "metadata": {
    "collapsed": true
   },
   "outputs": [],
   "source": [
    "# find the index of NAN value\n",
    "df_test.ix[df_test['Category_Name'].isnull()].index"
   ]
  },
  {
   "cell_type": "code",
   "execution_count": 27,
   "metadata": {
    "collapsed": true
   },
   "outputs": [],
   "source": [
    "## fill NAN (Category_Name) with UN_NAME\n",
    "df_test['Category_Name'] = df_test['Category_Name'].fillna(\"UN_NAME\")\n",
    "\n"
   ]
  },
  {
   "cell_type": "code",
   "execution_count": 29,
   "metadata": {
    "collapsed": true
   },
   "outputs": [],
   "source": [
    "## fill NAN (County) with UN_COUNTY\n",
    "df_test['County'] = df_test['County'].fillna(\"UN_COUNTY\")\n"
   ]
  },
  {
   "cell_type": "code",
   "execution_count": 31,
   "metadata": {
    "collapsed": true
   },
   "outputs": [],
   "source": [
    "df_test['Category'] = df_test['Category'].fillna(\"0.0\")\n"
   ]
  },
  {
   "cell_type": "code",
   "execution_count": 32,
   "metadata": {
    "collapsed": false
   },
   "outputs": [
    {
     "data": {
      "text/plain": [
       "Date                     0\n",
       "Store_Number             0\n",
       "City                     0\n",
       "Zip_Code                 0\n",
       "County                   0\n",
       "Category                 0\n",
       "Category_Name            0\n",
       "Vendor_Number            0\n",
       "Item_Number              0\n",
       "Item_Description         0\n",
       "Bottle_Volume_(ml)       0\n",
       "State_Bottle_Cost        0\n",
       "State_Bottle_Retail      0\n",
       "Bottles_Sold             0\n",
       "Sale_(Dollars)           0\n",
       "Volume_Sold_(Liters)     0\n",
       "Volume_Sold_(Gallons)    0\n",
       "Seprate_date             0\n",
       "dtype: int64"
      ]
     },
     "execution_count": 32,
     "metadata": {},
     "output_type": "execute_result"
    }
   ],
   "source": [
    "df_test.isnull().sum()"
   ]
  },
  {
   "cell_type": "code",
   "execution_count": 33,
   "metadata": {
    "collapsed": false
   },
   "outputs": [
    {
     "data": {
      "text/plain": [
       "Int64Index([], dtype='int64')"
      ]
     },
     "execution_count": 33,
     "metadata": {},
     "output_type": "execute_result"
    }
   ],
   "source": [
    "## find the index of NAN in Category column\n",
    "df_test.ix[df_test['Category'].isnull()].index\n"
   ]
  },
  {
   "cell_type": "markdown",
   "metadata": {},
   "source": [
    "Seprate_date\n",
    "store number (dummy)\n",
    "category_name (dummy)\n",
    "zipcode(dummy)\n",
    "county(dummy)\n",
    "Vendor_Number\n",
    "Item_Description(dummy)\n",
    "Bottle_Volume_(ml)"
   ]
  },
  {
   "cell_type": "code",
   "execution_count": 36,
   "metadata": {
    "collapsed": false
   },
   "outputs": [],
   "source": [
    "df_test2 = copy.deepcopy(df_test)\n",
    "\n"
   ]
  },
  {
   "cell_type": "markdown",
   "metadata": {},
   "source": [
    "# Explore the data\n",
    "\n",
    "Perform some exploratory statistical analysis and make some plots, such as histograms of transaction totals, bottles sold, etc."
   ]
  },
  {
   "cell_type": "code",
   "execution_count": 37,
   "metadata": {
    "collapsed": false
   },
   "outputs": [],
   "source": [
    "import seaborn as sns\n",
    "import matplotlib.pyplot as plt\n",
    "\n",
    "%matplotlib inline\n",
    "\n",
    "\n",
    "df_test2['Sale_(Dollars)'] = df_test2['Sale_(Dollars)'].str.replace(',', '')\n",
    "df_test2['Sale_(Dollars)'] = df_test2['Sale_(Dollars)'].str.replace('$', '')\n",
    "df_test2['Sale_(Dollars)']= df_test2['Sale_(Dollars)'].astype(float)\n",
    "\n",
    "\n",
    "df_test2['State_Bottle_Cost'] = df_test2['State_Bottle_Cost'].str.replace(',', '')\n",
    "df_test2['State_Bottle_Cost'] = df_test2['State_Bottle_Cost'].str.replace('$', '')\n",
    "df_test2['State_Bottle_Cost']= df_test2['State_Bottle_Cost'].astype(float)\n",
    "\n",
    "df_test2['State_Bottle_Retail'] = df_test2['State_Bottle_Retail'].str.replace(',', '')\n",
    "df_test2['State_Bottle_Retail'] = df_test2['State_Bottle_Retail'].str.replace('$', '')\n",
    "df_test2['State_Bottle_Retail']= df_test2['State_Bottle_Retail'].astype(float)\n"
   ]
  },
  {
   "cell_type": "code",
   "execution_count": 38,
   "metadata": {
    "collapsed": false
   },
   "outputs": [
    {
     "name": "stdout",
     "output_type": "stream",
     "text": [
      "Some statistics of the Iowa_Liquor_sales \n",
      "count    270955.000000\n",
      "mean        128.902375\n",
      "std         383.027369\n",
      "min           1.340000\n",
      "25%          30.450000\n",
      "50%          70.560000\n",
      "75%         135.000000\n",
      "max       36392.400000\n",
      "Name: Sale_(Dollars), dtype: float64\n",
      "()\n",
      "Iowa_Liquor_sales median\n",
      "70.56\n"
     ]
    }
   ],
   "source": [
    "print('Some statistics of the Iowa_Liquor_sales ')\n",
    "print(df_test2['Sale_(Dollars)'].describe())\n",
    "print()\n",
    "print('Iowa_Liquor_sales median')\n",
    "print(df_test2['Sale_(Dollars)'].median())\n"
   ]
  },
  {
   "cell_type": "code",
   "execution_count": 39,
   "metadata": {
    "collapsed": false
   },
   "outputs": [
    {
     "data": {
      "text/plain": [
       "<matplotlib.text.Text at 0x1286f1410>"
      ]
     },
     "execution_count": 39,
     "metadata": {},
     "output_type": "execute_result"
    },
    {
     "data": {
      "image/png": "[encoded data removed]",
      "text/plain": [
       "<matplotlib.figure.Figure at 0x113eb6750>"
      ]
     },
     "metadata": {},
     "output_type": "display_data"
    }
   ],
   "source": [
    "fig,ax = plt.subplots(figsize=(8,6))\n",
    "sns.distplot((df_test2['Sale_(Dollars)']),kde=False,ax=ax)\n",
    "plt.title('Sale_(Dollars) Distribution')\n",
    "plt.xlabel('Sale_(Dollars)')\n",
    "plt.ylabel('Freq')\n"
   ]
  },
  {
   "cell_type": "code",
   "execution_count": 40,
   "metadata": {
    "collapsed": false
   },
   "outputs": [
    {
     "data": {
      "text/plain": [
       "Date                             object\n",
       "Store_Number                      int64\n",
       "City                             object\n",
       "Zip_Code                         object\n",
       "County                           object\n",
       "Category                         object\n",
       "Category_Name                    object\n",
       "Vendor_Number                     int64\n",
       "Item_Number                       int64\n",
       "Item_Description                 object\n",
       "Bottle_Volume_(ml)                int64\n",
       "State_Bottle_Cost               float64\n",
       "State_Bottle_Retail             float64\n",
       "Bottles_Sold                      int64\n",
       "Sale_(Dollars)                  float64\n",
       "Volume_Sold_(Liters)            float64\n",
       "Volume_Sold_(Gallons)           float64\n",
       "Seprate_date             datetime64[ns]\n",
       "dtype: object"
      ]
     },
     "execution_count": 40,
     "metadata": {},
     "output_type": "execute_result"
    }
   ],
   "source": [
    "df_test2.dtypes"
   ]
  },
  {
   "cell_type": "code",
   "execution_count": 41,
   "metadata": {
    "collapsed": false
   },
   "outputs": [
    {
     "data": {
      "text/plain": [
       "<matplotlib.text.Text at 0x11876fcd0>"
      ]
     },
     "execution_count": 41,
     "metadata": {},
     "output_type": "execute_result"
    },
    {
     "data": {
      "image/png": "[encoded data removed]",
      "text/plain": [
       "<matplotlib.figure.Figure at 0x1188bb910>"
      ]
     },
     "metadata": {},
     "output_type": "display_data"
    }
   ],
   "source": [
    "fig,ax = plt.subplots(figsize=(8,6))\n",
    "correlation = df_test2.select_dtypes(include=['float64','int64']).iloc[:,1:].corr()\n",
    "sns.heatmap(correlation,ax=ax,vmax=1,square=True)\n",
    "plt.title('Numeric Feature heatmap')\n",
    "\n"
   ]
  },
  {
   "cell_type": "code",
   "execution_count": 42,
   "metadata": {
    "collapsed": false
   },
   "outputs": [
    {
     "name": "stdout",
     "output_type": "stream",
     "text": [
      "Sale_(Dollars) \t : 1.0\n",
      "Volume_Sold_(Gallons) \t : 0.846431940339\n",
      "Volume_Sold_(Liters) \t : 0.846420394642\n",
      "Bottles_Sold \t : 0.82544579508\n",
      "State_Bottle_Retail \t : 0.136114233589\n",
      "State_Bottle_Cost \t : 0.135930689772\n",
      "Bottle_Volume_(ml) \t : 0.0824455763378\n",
      "Vendor_Number \t : -0.0122770566779\n",
      "Item_Number \t : 0.00298701870783\n"
     ]
    }
   ],
   "source": [
    "corr_dict = correlation['Sale_(Dollars)'].to_dict()\n",
    "del correlation['Sale_(Dollars)'] \n",
    "## correlation with sale price\n",
    "for key,val in sorted(corr_dict.items(),key=lambda x:-abs(x[1])):\n",
    "    print('{0} \\t : {1}' .format(key,val))"
   ]
  },
  {
   "cell_type": "markdown",
   "metadata": {},
   "source": [
    "### The Sale_(Dollars) strongly correlate with Volume_Sold_(Gallons),Volume_Sold_(Liters),Bottles_Sold,Bottle_Volume_(ml)"
   ]
  },
  {
   "cell_type": "code",
   "execution_count": 43,
   "metadata": {
    "collapsed": false
   },
   "outputs": [
    {
     "data": {
      "text/plain": [
       "<matplotlib.axes._subplots.AxesSubplot at 0x113e10bd0>"
      ]
     },
     "execution_count": 43,
     "metadata": {},
     "output_type": "execute_result"
    },
    {
     "data": {
      "image/png": "[encoded data removed]",
      "text/plain": [
       "<matplotlib.figure.Figure at 0x118832410>"
      ]
     },
     "metadata": {},
     "output_type": "display_data"
    }
   ],
   "source": [
    "fig,ax = plt.subplots(figsize=(8,6))\n",
    "sns.regplot(x = 'Volume_Sold_(Liters)', y='Sale_(Dollars)' , data=df_test2,ax=ax)\n",
    "\n"
   ]
  },
  {
   "cell_type": "code",
   "execution_count": 45,
   "metadata": {
    "collapsed": false
   },
   "outputs": [
    {
     "data": {
      "image/png": "[encoded data removed]",
      "text/plain": [
       "<matplotlib.figure.Figure at 0x1168e7cd0>"
      ]
     },
     "metadata": {},
     "output_type": "display_data"
    }
   ],
   "source": [
    "fig,ax = plt.subplots(3,2,figsize=(10,9))\n",
    "sale_price = df_test2['Sale_(Dollars)'].values\n",
    "\n",
    "\n",
    "ax[0,0].scatter(df_test2['Volume_Sold_(Gallons)'],sale_price)\n",
    "ax[0,0].set_title('Volume_Sold_(Gallons) vs Sale_(Dollars)')\n",
    "\n",
    "ax[0,1].scatter(df_test2['Volume_Sold_(Liters)'],sale_price)\n",
    "ax[0,1].set_title('Volume_Sold_(Liters) vs Sale_(Dollars)')\n",
    "\n",
    "ax[1,0].scatter(df_test2['Bottles_Sold'],sale_price)\n",
    "ax[1,0].set_title('Bottles_Sold vs Sale_(Dollars)')\n",
    "\n",
    "ax[1,1].scatter(df_test2['Bottle_Volume_(ml)'],sale_price)\n",
    "ax[1,1].set_title('Bottle_Volume_(ml) vs Sale_(Dollars)')\n",
    "\n",
    "ax[2,0].scatter(df_test2['State_Bottle_Retail'],sale_price)\n",
    "ax[2,0].set_title('State_Bottle_Retail vs Sale_(Dollars)')\n",
    "\n",
    "ax[2,1].scatter(df_test2['State_Bottle_Cost'],sale_price)\n",
    "ax[2,1].set_title('State_Bottle_Cost vs Sale_(Dollars)')\n",
    "\n",
    "\n",
    "plt.tight_layout()\n"
   ]
  },
  {
   "cell_type": "markdown",
   "metadata": {},
   "source": [
    "## Categorical Feature"
   ]
  },
  {
   "cell_type": "code",
   "execution_count": 46,
   "metadata": {
    "collapsed": false
   },
   "outputs": [
    {
     "name": "stdout",
     "output_type": "stream",
     "text": [
      "Index([u'Date', u'City', u'Zip_Code', u'County', u'Category', u'Category_Name',\n",
      "       u'Item_Description'],\n",
      "      dtype='object')\n"
     ]
    }
   ],
   "source": [
    "print(df_test2.select_dtypes(include=['object']).columns)"
   ]
  },
  {
   "cell_type": "markdown",
   "metadata": {},
   "source": [
    "### County"
   ]
  },
  {
   "cell_type": "markdown",
   "metadata": {},
   "source": [
    "## tableauFigure"
   ]
  },
  {
   "cell_type": "code",
   "execution_count": null,
   "metadata": {
    "collapsed": true
   },
   "outputs": [],
   "source": []
  },
  {
   "cell_type": "markdown",
   "metadata": {},
   "source": [
    "# prepare the test and train lists"
   ]
  },
  {
   "cell_type": "code",
   "execution_count": 49,
   "metadata": {
    "collapsed": true
   },
   "outputs": [],
   "source": [
    "df_test3= copy.deepcopy(df_test2)"
   ]
  },
  {
   "cell_type": "code",
   "execution_count": 51,
   "metadata": {
    "collapsed": true
   },
   "outputs": [],
   "source": [
    "df_test3['year'] = df_test3['Seprate_date'].dt.year"
   ]
  },
  {
   "cell_type": "code",
   "execution_count": 52,
   "metadata": {
    "collapsed": true
   },
   "outputs": [],
   "source": [
    "df_test3['month'] = df_test3['Seprate_date'].dt.month"
   ]
  },
  {
   "cell_type": "code",
   "execution_count": 54,
   "metadata": {
    "collapsed": false
   },
   "outputs": [],
   "source": [
    "df_test3= df_test3.drop(['Date','City','Zip_Code','Category','Item_Description','Bottle_Volume_(ml)','Bottles_Sold','Volume_Sold_(Gallons)','Seprate_date'], axis=1)"
   ]
  },
  {
   "cell_type": "code",
   "execution_count": 61,
   "metadata": {
    "collapsed": true
   },
   "outputs": [],
   "source": [
    "df_test4 = copy.deepcopy(df_test3)"
   ]
  },
  {
   "cell_type": "markdown",
   "metadata": {},
   "source": [
    "## make dummy variable from county"
   ]
  },
  {
   "cell_type": "code",
   "execution_count": 62,
   "metadata": {
    "collapsed": false
   },
   "outputs": [],
   "source": [
    "df_dummies_county  = pd.get_dummies(df_test4['County'])"
   ]
  },
  {
   "cell_type": "code",
   "execution_count": 63,
   "metadata": {
    "collapsed": false
   },
   "outputs": [],
   "source": [
    "df_dummies_county.columns = [u'Adair', u'Adams', u'Allamakee', u'Appanoose', u'Audubon', u'Benton',u'Black Hawk', u'Boone', u'Bremer', u'Buchanan', u'Buena Vista',u'Butler', u'Calhoun', u'Carroll', u'Cass', u'Cedar', u'Cerro Gordo',u'Cherokee', u'Chickasaw', u'Clarke', u'Clay', u'Clayton', u'Clinton',u'Crawford', u'Dallas', u'Davis', u'Decatur', u'Delaware',\n",
    "       u'Des Moines', u'Dickinson', u'Dubuque', u'Emmet', u'Fayette', u'Floyd',\n",
    "       u'Franklin', u'Fremont', u'Greene', u'Grundy', u'Guthrie', u'Hamilton',\n",
    "       u'Hancock', u'Hardin', u'Harrison', u'Henry', u'Howard', u'Humboldt',\n",
    "       u'Ida', u'Iowa', u'Jackson', u'Jasper', u'Jefferson', u'Johnson',\n",
    "       u'Jones', u'Keokuk', u'Kossuth', u'Lee', u'Linn', u'Louisa', u'Lucas',\n",
    "       u'Lyon', u'Madison', u'Mahaska', u'Marion', u'Marshall', u'Mills',\n",
    "       u'Mitchell', u'Monona', u'Monroe', u'Montgomery', u'Muscatine',\n",
    "       u'O-Brien', u'Osceola', u'Page', u'Palo Alto', u'Plymouth',\n",
    "       u'Pocahontas', u'Polk', u'Pottawattamie', u'Poweshiek', u'Ringgold',\n",
    "       u'Sac', u'Scott', u'Shelby', u'Sioux', u'Story', u'Tama', u'Taylor',\n",
    "       u'UN_COUNTY', u'Union', u'Van Buren', u'Wapello', u'Warren',\n",
    "       u'Washington', u'Wayne', u'Webster', u'Winnebago', u'Winneshiek',\n",
    "       u'Woodbury', u'Worth', u'Wright']"
   ]
  },
  {
   "cell_type": "code",
   "execution_count": 64,
   "metadata": {
    "collapsed": true
   },
   "outputs": [],
   "source": [
    "df_dummies_county.drop(['Adair'], axis=1, inplace=True)\n"
   ]
  },
  {
   "cell_type": "code",
   "execution_count": 65,
   "metadata": {
    "collapsed": false
   },
   "outputs": [],
   "source": [
    "df_test4 =df_test4.join(df_dummies_county)"
   ]
  },
  {
   "cell_type": "code",
   "execution_count": 66,
   "metadata": {
    "collapsed": false
   },
   "outputs": [
    {
     "data": {
      "text/plain": [
       "<matplotlib.axes._subplots.AxesSubplot at 0x12819ee10>"
      ]
     },
     "execution_count": 66,
     "metadata": {},
     "output_type": "execute_result"
    },
    {
     "data": {
      "image/png": "[encoded data removed]",
      "text/plain": [
       "<matplotlib.figure.Figure at 0x127e4bb90>"
      ]
     },
     "metadata": {},
     "output_type": "display_data"
    }
   ],
   "source": [
    "sns.countplot(y='County', data=df_test4)"
   ]
  },
  {
   "cell_type": "markdown",
   "metadata": {},
   "source": [
    "#### since we have a lot of variables I try to make a model based on quarter sale and county for each store and make a model, predict. if the results was not good I try more variables"
   ]
  },
  {
   "cell_type": "code",
   "execution_count": 427,
   "metadata": {
    "collapsed": true
   },
   "outputs": [],
   "source": [
    "df_test5 = copy.deepcopy(df_test4)\n",
    "\n"
   ]
  },
  {
   "cell_type": "code",
   "execution_count": null,
   "metadata": {
    "collapsed": true
   },
   "outputs": [],
   "source": []
  },
  {
   "cell_type": "code",
   "execution_count": 428,
   "metadata": {
    "collapsed": true
   },
   "outputs": [],
   "source": [
    "df_total_15 = df_test5.groupby('year').get_group(2015)\n",
    "df_total_16 = df_test5.groupby('year').get_group(2016)\n",
    "\n"
   ]
  },
  {
   "cell_type": "code",
   "execution_count": 430,
   "metadata": {
    "collapsed": false
   },
   "outputs": [],
   "source": [
    "df_total_15 = df_total_15.drop(['Category_Name','Vendor_Number','Item_Number','State_Bottle_Cost','State_Bottle_Retail','Volume_Sold_(Liters)','year'], axis=1)\n",
    "df_total_16 = df_total_16.drop(['Category_Name','Vendor_Number','Item_Number','State_Bottle_Cost','State_Bottle_Retail','Volume_Sold_(Liters)','year'], axis=1)\n"
   ]
  },
  {
   "cell_type": "markdown",
   "metadata": {},
   "source": [
    "## I make 3 different dataframes and merge them together"
   ]
  },
  {
   "cell_type": "markdown",
   "metadata": {
    "collapsed": false
   },
   "source": [
    "![prjprj](prjprj.png)\n"
   ]
  },
  {
   "cell_type": "code",
   "execution_count": 432,
   "metadata": {
    "collapsed": false
   },
   "outputs": [],
   "source": [
    "df_total_15_group = df_total_15.groupby(by=['Store_Number','month'])['Sale_(Dollars)'].sum()\n",
    "d1 = pd.DataFrame(df_total_15_group)\n",
    "d1 = d1.reset_index() #Nathen help me withthis command\n",
    "d1.columns=['Store_Number','month','Sale_total_month']\n",
    "d1\n",
    "d2_2015_month_eachstore = copy.deepcopy(d1)\n",
    "\n"
   ]
  },
  {
   "cell_type": "code",
   "execution_count": 434,
   "metadata": {
    "collapsed": false
   },
   "outputs": [],
   "source": [
    "e1 = d1[d1['Store_Number'].notnull() & (d1['month'] < 4)]\n",
    "e2 = e1.groupby(by=['Store_Number'])['Sale_total_month'].sum()\n",
    "d1 = pd.DataFrame(e2)\n",
    "d1 = d1.reset_index()\n",
    "\n",
    "## I have quarter sale for each store\n"
   ]
  },
  {
   "cell_type": "code",
   "execution_count": null,
   "metadata": {
    "collapsed": true
   },
   "outputs": [],
   "source": [
    "\n",
    "### dataset for total sale of the year 2015 each store\n"
   ]
  },
  {
   "cell_type": "code",
   "execution_count": 438,
   "metadata": {
    "collapsed": false
   },
   "outputs": [],
   "source": [
    "df_total_15_group2 = df_total_15.groupby(by=['Store_Number'])['Sale_(Dollars)'].sum()\n",
    "d2=pd.DataFrame(df_total_15_group2)\n",
    "d2 = d2.reset_index()\n",
    "d2.columns=['Store_Number','Sale_total_year']\n",
    "d2_2015_data_totalyear = copy.deepcopy(d2)\n",
    "\n",
    "\n",
    "### dataset for total sale of the year 2015 each store\n",
    "\n"
   ]
  },
  {
   "cell_type": "markdown",
   "metadata": {},
   "source": [
    "## merging two dataframs and filing the missing value (thanks to Joseph)\n"
   ]
  },
  {
   "cell_type": "code",
   "execution_count": 537,
   "metadata": {
    "collapsed": true
   },
   "outputs": [],
   "source": [
    "common_cols = list(set(d2.columns) & set(d1.columns))\n",
    "\n"
   ]
  },
  {
   "cell_type": "code",
   "execution_count": 538,
   "metadata": {
    "collapsed": false
   },
   "outputs": [],
   "source": [
    "mergedata=pd.merge(d2, d1, on=common_cols, how='outer')\n",
    "\n"
   ]
  },
  {
   "cell_type": "code",
   "execution_count": 541,
   "metadata": {
    "collapsed": false
   },
   "outputs": [
    {
     "data": {
      "text/plain": [
       "Store_Number        0\n",
       "Sale_total_year     0\n",
       "Sale_total_month    0\n",
       "dtype: int64"
      ]
     },
     "execution_count": 541,
     "metadata": {},
     "output_type": "execute_result"
    }
   ],
   "source": [
    "mergedata.isnull().sum()\n",
    "\n"
   ]
  },
  {
   "cell_type": "code",
   "execution_count": 767,
   "metadata": {
    "collapsed": false
   },
   "outputs": [
    {
     "data": {
      "text/html": [
       "<div>\n",
       "<table border=\"1\" class=\"dataframe\">\n",
       "  <thead>\n",
       "    <tr style=\"text-align: right;\">\n",
       "      <th></th>\n",
       "      <th>Store_Number</th>\n",
       "      <th>Sale_total_year</th>\n",
       "      <th>Sale_total_month</th>\n",
       "    </tr>\n",
       "  </thead>\n",
       "  <tbody>\n",
       "    <tr>\n",
       "      <th>0</th>\n",
       "      <td>2106</td>\n",
       "      <td>146326.22</td>\n",
       "      <td>39287.29</td>\n",
       "    </tr>\n",
       "    <tr>\n",
       "      <th>1</th>\n",
       "      <td>2113</td>\n",
       "      <td>9310.22</td>\n",
       "      <td>2833.25</td>\n",
       "    </tr>\n",
       "    <tr>\n",
       "      <th>2</th>\n",
       "      <td>2130</td>\n",
       "      <td>111871.43</td>\n",
       "      <td>24272.57</td>\n",
       "    </tr>\n",
       "    <tr>\n",
       "      <th>3</th>\n",
       "      <td>2152</td>\n",
       "      <td>7721.08</td>\n",
       "      <td>2003.46</td>\n",
       "    </tr>\n",
       "    <tr>\n",
       "      <th>4</th>\n",
       "      <td>2178</td>\n",
       "      <td>24324.18</td>\n",
       "      <td>5856.41</td>\n",
       "    </tr>\n",
       "  </tbody>\n",
       "</table>\n",
       "</div>"
      ],
      "text/plain": [
       "   Store_Number  Sale_total_year  Sale_total_month\n",
       "0          2106        146326.22          39287.29\n",
       "1          2113          9310.22           2833.25\n",
       "2          2130        111871.43          24272.57\n",
       "3          2152          7721.08           2003.46\n",
       "4          2178         24324.18           5856.41"
      ]
     },
     "execution_count": 767,
     "metadata": {},
     "output_type": "execute_result"
    }
   ],
   "source": [
    "mergedata['Sale_total_month'] = mergedata['Sale_total_month'].fillna(10)\n",
    "mergedata.isnull().sum()\n",
    "\n",
    "mergedata.head()"
   ]
  },
  {
   "cell_type": "markdown",
   "metadata": {},
   "source": [
    "## making the third dataframe (county)"
   ]
  },
  {
   "cell_type": "code",
   "execution_count": 542,
   "metadata": {
    "collapsed": false
   },
   "outputs": [
    {
     "data": {
      "text/plain": [
       "(218594, 103)"
      ]
     },
     "execution_count": 542,
     "metadata": {},
     "output_type": "execute_result"
    }
   ],
   "source": [
    "df_total_15.shape\n",
    "\n"
   ]
  },
  {
   "cell_type": "code",
   "execution_count": null,
   "metadata": {
    "collapsed": true
   },
   "outputs": [],
   "source": []
  },
  {
   "cell_type": "code",
   "execution_count": 641,
   "metadata": {
    "collapsed": false
   },
   "outputs": [
    {
     "data": {
      "text/plain": [
       "(218594, 100)"
      ]
     },
     "execution_count": 641,
     "metadata": {},
     "output_type": "execute_result"
    }
   ],
   "source": [
    "df_county_df = df_total_15.drop(['County','Sale_(Dollars)','month'], axis=1)\n",
    "df_county_df.shape\n",
    "\n"
   ]
  },
  {
   "cell_type": "code",
   "execution_count": null,
   "metadata": {
    "collapsed": true
   },
   "outputs": [],
   "source": [
    "df_county_df=df_county_df.sort('Store_Number').drop_duplicates(subset=['Store_Number'], take_last=True)\n",
    "\n"
   ]
  },
  {
   "cell_type": "code",
   "execution_count": 768,
   "metadata": {
    "collapsed": false
   },
   "outputs": [
    {
     "data": {
      "text/html": [
       "<div>\n",
       "<table border=\"1\" class=\"dataframe\">\n",
       "  <thead>\n",
       "    <tr style=\"text-align: right;\">\n",
       "      <th></th>\n",
       "      <th>Store_Number</th>\n",
       "      <th>Sale_total_year</th>\n",
       "      <th>Sale_total_month</th>\n",
       "      <th>Adams</th>\n",
       "      <th>Allamakee</th>\n",
       "      <th>Appanoose</th>\n",
       "      <th>Audubon</th>\n",
       "      <th>Benton</th>\n",
       "      <th>Black Hawk</th>\n",
       "      <th>Boone</th>\n",
       "      <th>...</th>\n",
       "      <th>Wapello</th>\n",
       "      <th>Warren</th>\n",
       "      <th>Washington</th>\n",
       "      <th>Wayne</th>\n",
       "      <th>Webster</th>\n",
       "      <th>Winnebago</th>\n",
       "      <th>Winneshiek</th>\n",
       "      <th>Woodbury</th>\n",
       "      <th>Worth</th>\n",
       "      <th>Wright</th>\n",
       "    </tr>\n",
       "  </thead>\n",
       "  <tbody>\n",
       "    <tr>\n",
       "      <th>0</th>\n",
       "      <td>2106</td>\n",
       "      <td>146326.22</td>\n",
       "      <td>39287.29</td>\n",
       "      <td>0.0</td>\n",
       "      <td>0.0</td>\n",
       "      <td>0.0</td>\n",
       "      <td>0.0</td>\n",
       "      <td>0.0</td>\n",
       "      <td>1.0</td>\n",
       "      <td>0.0</td>\n",
       "      <td>...</td>\n",
       "      <td>0.0</td>\n",
       "      <td>0.0</td>\n",
       "      <td>0.0</td>\n",
       "      <td>0.0</td>\n",
       "      <td>0.0</td>\n",
       "      <td>0.0</td>\n",
       "      <td>0.0</td>\n",
       "      <td>0.0</td>\n",
       "      <td>0.0</td>\n",
       "      <td>0.0</td>\n",
       "    </tr>\n",
       "    <tr>\n",
       "      <th>1</th>\n",
       "      <td>2113</td>\n",
       "      <td>9310.22</td>\n",
       "      <td>2833.25</td>\n",
       "      <td>0.0</td>\n",
       "      <td>0.0</td>\n",
       "      <td>0.0</td>\n",
       "      <td>0.0</td>\n",
       "      <td>0.0</td>\n",
       "      <td>0.0</td>\n",
       "      <td>0.0</td>\n",
       "      <td>...</td>\n",
       "      <td>0.0</td>\n",
       "      <td>0.0</td>\n",
       "      <td>0.0</td>\n",
       "      <td>0.0</td>\n",
       "      <td>1.0</td>\n",
       "      <td>0.0</td>\n",
       "      <td>0.0</td>\n",
       "      <td>0.0</td>\n",
       "      <td>0.0</td>\n",
       "      <td>0.0</td>\n",
       "    </tr>\n",
       "    <tr>\n",
       "      <th>2</th>\n",
       "      <td>2130</td>\n",
       "      <td>111871.43</td>\n",
       "      <td>24272.57</td>\n",
       "      <td>0.0</td>\n",
       "      <td>0.0</td>\n",
       "      <td>0.0</td>\n",
       "      <td>0.0</td>\n",
       "      <td>0.0</td>\n",
       "      <td>1.0</td>\n",
       "      <td>0.0</td>\n",
       "      <td>...</td>\n",
       "      <td>0.0</td>\n",
       "      <td>0.0</td>\n",
       "      <td>0.0</td>\n",
       "      <td>0.0</td>\n",
       "      <td>0.0</td>\n",
       "      <td>0.0</td>\n",
       "      <td>0.0</td>\n",
       "      <td>0.0</td>\n",
       "      <td>0.0</td>\n",
       "      <td>0.0</td>\n",
       "    </tr>\n",
       "    <tr>\n",
       "      <th>3</th>\n",
       "      <td>2152</td>\n",
       "      <td>7721.08</td>\n",
       "      <td>2003.46</td>\n",
       "      <td>0.0</td>\n",
       "      <td>0.0</td>\n",
       "      <td>0.0</td>\n",
       "      <td>0.0</td>\n",
       "      <td>0.0</td>\n",
       "      <td>0.0</td>\n",
       "      <td>0.0</td>\n",
       "      <td>...</td>\n",
       "      <td>0.0</td>\n",
       "      <td>0.0</td>\n",
       "      <td>0.0</td>\n",
       "      <td>0.0</td>\n",
       "      <td>0.0</td>\n",
       "      <td>0.0</td>\n",
       "      <td>0.0</td>\n",
       "      <td>0.0</td>\n",
       "      <td>0.0</td>\n",
       "      <td>0.0</td>\n",
       "    </tr>\n",
       "    <tr>\n",
       "      <th>4</th>\n",
       "      <td>2178</td>\n",
       "      <td>24324.18</td>\n",
       "      <td>5856.41</td>\n",
       "      <td>0.0</td>\n",
       "      <td>1.0</td>\n",
       "      <td>0.0</td>\n",
       "      <td>0.0</td>\n",
       "      <td>0.0</td>\n",
       "      <td>0.0</td>\n",
       "      <td>0.0</td>\n",
       "      <td>...</td>\n",
       "      <td>0.0</td>\n",
       "      <td>0.0</td>\n",
       "      <td>0.0</td>\n",
       "      <td>0.0</td>\n",
       "      <td>0.0</td>\n",
       "      <td>0.0</td>\n",
       "      <td>0.0</td>\n",
       "      <td>0.0</td>\n",
       "      <td>0.0</td>\n",
       "      <td>0.0</td>\n",
       "    </tr>\n",
       "  </tbody>\n",
       "</table>\n",
       "<p>5 rows × 102 columns</p>\n",
       "</div>"
      ],
      "text/plain": [
       "   Store_Number  Sale_total_year  Sale_total_month  Adams  Allamakee  \\\n",
       "0          2106        146326.22          39287.29    0.0        0.0   \n",
       "1          2113          9310.22           2833.25    0.0        0.0   \n",
       "2          2130        111871.43          24272.57    0.0        0.0   \n",
       "3          2152          7721.08           2003.46    0.0        0.0   \n",
       "4          2178         24324.18           5856.41    0.0        1.0   \n",
       "\n",
       "   Appanoose  Audubon  Benton  Black Hawk  Boone   ...    Wapello  Warren  \\\n",
       "0        0.0      0.0     0.0         1.0    0.0   ...        0.0     0.0   \n",
       "1        0.0      0.0     0.0         0.0    0.0   ...        0.0     0.0   \n",
       "2        0.0      0.0     0.0         1.0    0.0   ...        0.0     0.0   \n",
       "3        0.0      0.0     0.0         0.0    0.0   ...        0.0     0.0   \n",
       "4        0.0      0.0     0.0         0.0    0.0   ...        0.0     0.0   \n",
       "\n",
       "   Washington  Wayne  Webster  Winnebago  Winneshiek  Woodbury  Worth  Wright  \n",
       "0         0.0    0.0      0.0        0.0         0.0       0.0    0.0     0.0  \n",
       "1         0.0    0.0      1.0        0.0         0.0       0.0    0.0     0.0  \n",
       "2         0.0    0.0      0.0        0.0         0.0       0.0    0.0     0.0  \n",
       "3         0.0    0.0      0.0        0.0         0.0       0.0    0.0     0.0  \n",
       "4         0.0    0.0      0.0        0.0         0.0       0.0    0.0     0.0  \n",
       "\n",
       "[5 rows x 102 columns]"
      ]
     },
     "execution_count": 768,
     "metadata": {},
     "output_type": "execute_result"
    }
   ],
   "source": [
    "finald=pd.merge(mergedata, df_county_df,  how='outer')\n",
    "\n",
    "finald.head()\n"
   ]
  },
  {
   "cell_type": "code",
   "execution_count": 578,
   "metadata": {
    "collapsed": false
   },
   "outputs": [],
   "source": [
    "\n",
    "data_finale_15_model = copy.deepcopy(finald)\n"
   ]
  },
  {
   "cell_type": "markdown",
   "metadata": {},
   "source": [
    "### making a model"
   ]
  },
  {
   "cell_type": "code",
   "execution_count": 579,
   "metadata": {
    "collapsed": false
   },
   "outputs": [
    {
     "data": {
      "text/plain": [
       "Index([    u'Store_Number',  u'Sale_total_year', u'Sale_total_month',\n",
       "                  u'Adams',        u'Allamakee',        u'Appanoose',\n",
       "                u'Audubon',           u'Benton',       u'Black Hawk',\n",
       "                  u'Boone',\n",
       "       ...\n",
       "                u'Wapello',           u'Warren',       u'Washington',\n",
       "                  u'Wayne',          u'Webster',        u'Winnebago',\n",
       "             u'Winneshiek',         u'Woodbury',            u'Worth',\n",
       "                 u'Wright'],\n",
       "      dtype='object', length=102)"
      ]
     },
     "execution_count": 579,
     "metadata": {},
     "output_type": "execute_result"
    }
   ],
   "source": [
    "data_finale_15_model.columns"
   ]
  },
  {
   "cell_type": "code",
   "execution_count": 580,
   "metadata": {
    "collapsed": false
   },
   "outputs": [
    {
     "data": {
      "text/plain": [
       "(1372, 102)"
      ]
     },
     "execution_count": 580,
     "metadata": {},
     "output_type": "execute_result"
    }
   ],
   "source": [
    "data_finale_15_model.shape"
   ]
  },
  {
   "cell_type": "code",
   "execution_count": null,
   "metadata": {
    "collapsed": true
   },
   "outputs": [],
   "source": []
  },
  {
   "cell_type": "code",
   "execution_count": null,
   "metadata": {
    "collapsed": true
   },
   "outputs": [],
   "source": []
  },
  {
   "cell_type": "code",
   "execution_count": 601,
   "metadata": {
    "collapsed": false
   },
   "outputs": [
    {
     "data": {
      "text/html": [
       "<div>\n",
       "<table border=\"1\" class=\"dataframe\">\n",
       "  <thead>\n",
       "    <tr style=\"text-align: right;\">\n",
       "      <th></th>\n",
       "      <th>Sale_total_month</th>\n",
       "      <th>Adams</th>\n",
       "      <th>Allamakee</th>\n",
       "      <th>Appanoose</th>\n",
       "      <th>Audubon</th>\n",
       "      <th>Benton</th>\n",
       "      <th>Black Hawk</th>\n",
       "      <th>Boone</th>\n",
       "      <th>Bremer</th>\n",
       "      <th>Buchanan</th>\n",
       "      <th>...</th>\n",
       "      <th>Wapello</th>\n",
       "      <th>Warren</th>\n",
       "      <th>Washington</th>\n",
       "      <th>Wayne</th>\n",
       "      <th>Webster</th>\n",
       "      <th>Winnebago</th>\n",
       "      <th>Winneshiek</th>\n",
       "      <th>Woodbury</th>\n",
       "      <th>Worth</th>\n",
       "      <th>Wright</th>\n",
       "    </tr>\n",
       "  </thead>\n",
       "  <tbody>\n",
       "    <tr>\n",
       "      <th>0</th>\n",
       "      <td>39287.29</td>\n",
       "      <td>0.0</td>\n",
       "      <td>0.0</td>\n",
       "      <td>0.0</td>\n",
       "      <td>0.0</td>\n",
       "      <td>0.0</td>\n",
       "      <td>1.0</td>\n",
       "      <td>0.0</td>\n",
       "      <td>0.0</td>\n",
       "      <td>0.0</td>\n",
       "      <td>...</td>\n",
       "      <td>0.0</td>\n",
       "      <td>0.0</td>\n",
       "      <td>0.0</td>\n",
       "      <td>0.0</td>\n",
       "      <td>0.0</td>\n",
       "      <td>0.0</td>\n",
       "      <td>0.0</td>\n",
       "      <td>0.0</td>\n",
       "      <td>0.0</td>\n",
       "      <td>0.0</td>\n",
       "    </tr>\n",
       "    <tr>\n",
       "      <th>1</th>\n",
       "      <td>2833.25</td>\n",
       "      <td>0.0</td>\n",
       "      <td>0.0</td>\n",
       "      <td>0.0</td>\n",
       "      <td>0.0</td>\n",
       "      <td>0.0</td>\n",
       "      <td>0.0</td>\n",
       "      <td>0.0</td>\n",
       "      <td>0.0</td>\n",
       "      <td>0.0</td>\n",
       "      <td>...</td>\n",
       "      <td>0.0</td>\n",
       "      <td>0.0</td>\n",
       "      <td>0.0</td>\n",
       "      <td>0.0</td>\n",
       "      <td>1.0</td>\n",
       "      <td>0.0</td>\n",
       "      <td>0.0</td>\n",
       "      <td>0.0</td>\n",
       "      <td>0.0</td>\n",
       "      <td>0.0</td>\n",
       "    </tr>\n",
       "    <tr>\n",
       "      <th>2</th>\n",
       "      <td>24272.57</td>\n",
       "      <td>0.0</td>\n",
       "      <td>0.0</td>\n",
       "      <td>0.0</td>\n",
       "      <td>0.0</td>\n",
       "      <td>0.0</td>\n",
       "      <td>1.0</td>\n",
       "      <td>0.0</td>\n",
       "      <td>0.0</td>\n",
       "      <td>0.0</td>\n",
       "      <td>...</td>\n",
       "      <td>0.0</td>\n",
       "      <td>0.0</td>\n",
       "      <td>0.0</td>\n",
       "      <td>0.0</td>\n",
       "      <td>0.0</td>\n",
       "      <td>0.0</td>\n",
       "      <td>0.0</td>\n",
       "      <td>0.0</td>\n",
       "      <td>0.0</td>\n",
       "      <td>0.0</td>\n",
       "    </tr>\n",
       "    <tr>\n",
       "      <th>3</th>\n",
       "      <td>2003.46</td>\n",
       "      <td>0.0</td>\n",
       "      <td>0.0</td>\n",
       "      <td>0.0</td>\n",
       "      <td>0.0</td>\n",
       "      <td>0.0</td>\n",
       "      <td>0.0</td>\n",
       "      <td>0.0</td>\n",
       "      <td>0.0</td>\n",
       "      <td>0.0</td>\n",
       "      <td>...</td>\n",
       "      <td>0.0</td>\n",
       "      <td>0.0</td>\n",
       "      <td>0.0</td>\n",
       "      <td>0.0</td>\n",
       "      <td>0.0</td>\n",
       "      <td>0.0</td>\n",
       "      <td>0.0</td>\n",
       "      <td>0.0</td>\n",
       "      <td>0.0</td>\n",
       "      <td>0.0</td>\n",
       "    </tr>\n",
       "    <tr>\n",
       "      <th>4</th>\n",
       "      <td>5856.41</td>\n",
       "      <td>0.0</td>\n",
       "      <td>1.0</td>\n",
       "      <td>0.0</td>\n",
       "      <td>0.0</td>\n",
       "      <td>0.0</td>\n",
       "      <td>0.0</td>\n",
       "      <td>0.0</td>\n",
       "      <td>0.0</td>\n",
       "      <td>0.0</td>\n",
       "      <td>...</td>\n",
       "      <td>0.0</td>\n",
       "      <td>0.0</td>\n",
       "      <td>0.0</td>\n",
       "      <td>0.0</td>\n",
       "      <td>0.0</td>\n",
       "      <td>0.0</td>\n",
       "      <td>0.0</td>\n",
       "      <td>0.0</td>\n",
       "      <td>0.0</td>\n",
       "      <td>0.0</td>\n",
       "    </tr>\n",
       "  </tbody>\n",
       "</table>\n",
       "<p>5 rows × 100 columns</p>\n",
       "</div>"
      ],
      "text/plain": [
       "   Sale_total_month  Adams  Allamakee  Appanoose  Audubon  Benton  Black Hawk  \\\n",
       "0          39287.29    0.0        0.0        0.0      0.0     0.0         1.0   \n",
       "1           2833.25    0.0        0.0        0.0      0.0     0.0         0.0   \n",
       "2          24272.57    0.0        0.0        0.0      0.0     0.0         1.0   \n",
       "3           2003.46    0.0        0.0        0.0      0.0     0.0         0.0   \n",
       "4           5856.41    0.0        1.0        0.0      0.0     0.0         0.0   \n",
       "\n",
       "   Boone  Bremer  Buchanan   ...    Wapello  Warren  Washington  Wayne  \\\n",
       "0    0.0     0.0       0.0   ...        0.0     0.0         0.0    0.0   \n",
       "1    0.0     0.0       0.0   ...        0.0     0.0         0.0    0.0   \n",
       "2    0.0     0.0       0.0   ...        0.0     0.0         0.0    0.0   \n",
       "3    0.0     0.0       0.0   ...        0.0     0.0         0.0    0.0   \n",
       "4    0.0     0.0       0.0   ...        0.0     0.0         0.0    0.0   \n",
       "\n",
       "   Webster  Winnebago  Winneshiek  Woodbury  Worth  Wright  \n",
       "0      0.0        0.0         0.0       0.0    0.0     0.0  \n",
       "1      1.0        0.0         0.0       0.0    0.0     0.0  \n",
       "2      0.0        0.0         0.0       0.0    0.0     0.0  \n",
       "3      0.0        0.0         0.0       0.0    0.0     0.0  \n",
       "4      0.0        0.0         0.0       0.0    0.0     0.0  \n",
       "\n",
       "[5 rows x 100 columns]"
      ]
     },
     "execution_count": 601,
     "metadata": {},
     "output_type": "execute_result"
    }
   ],
   "source": [
    "X=  data_finale_15_model.drop(['Store_Number','Sale_total_year'], axis=1)\n",
    "#X=data_finale_15_model['Sale_total_month']\n",
    "type(X)\n",
    "X.head()\n",
    "\n"
   ]
  },
  {
   "cell_type": "code",
   "execution_count": null,
   "metadata": {
    "collapsed": true
   },
   "outputs": [],
   "source": [
    "#make a train test , and model\n",
    "from sklearn import metrics\n",
    "from sklearn.cross_validation import train_test_split\n",
    "X_train, X_test, y_train, y_test = train_test_split(X, y)\n",
    "\n",
    "# STEP 1: split X and y into training and testing sets (using random_state for reproducibility)\n",
    "X_train, X_test, y_train, y_test = train_test_split(X, y, random_state=33)"
   ]
  },
  {
   "cell_type": "code",
   "execution_count": 602,
   "metadata": {
    "collapsed": false
   },
   "outputs": [
    {
     "name": "stdout",
     "output_type": "stream",
     "text": [
      "<type 'numpy.ndarray'>\n"
     ]
    }
   ],
   "source": [
    "y = data_finale_15_model['Sale_total_year'].astype('int')\n",
    "type(X)\n",
    "print type(y.values)"
   ]
  },
  {
   "cell_type": "code",
   "execution_count": 666,
   "metadata": {
    "collapsed": false
   },
   "outputs": [
    {
     "data": {
      "text/plain": [
       "pandas.core.frame.DataFrame"
      ]
     },
     "execution_count": 666,
     "metadata": {},
     "output_type": "execute_result"
    }
   ],
   "source": [
    "type(X_test)"
   ]
  },
  {
   "cell_type": "code",
   "execution_count": null,
   "metadata": {
    "collapsed": true
   },
   "outputs": [],
   "source": []
  },
  {
   "cell_type": "markdown",
   "metadata": {},
   "source": [
    "## LinearRegression, X train and Y train"
   ]
  },
  {
   "cell_type": "code",
   "execution_count": 769,
   "metadata": {
    "collapsed": false
   },
   "outputs": [],
   "source": [
    "import sklearn.linear_model as lm\n",
    "linreg = lm.LinearRegression()\n",
    "#linreg.fit(np.transpose(np.matrix(X_train)), np.transpose(np.matrix(y_train)))\n",
    "linreg.fit(X_train, y_train)\n",
    "Y_pred = linreg.predict(X_test)"
   ]
  },
  {
   "cell_type": "code",
   "execution_count": 619,
   "metadata": {
    "collapsed": false
   },
   "outputs": [
    {
     "data": {
      "text/plain": [
       "1.0"
      ]
     },
     "execution_count": 619,
     "metadata": {},
     "output_type": "execute_result"
    }
   ],
   "source": [
    "#linreg.score(X_test.reshape(X_test.shape[0], 1), Y_pred)\n",
    "linreg.score(X_test, Y_pred)"
   ]
  },
  {
   "cell_type": "markdown",
   "metadata": {},
   "source": [
    "## create 2016 dataset features+target for the first 3 months 2016"
   ]
  },
  {
   "cell_type": "markdown",
   "metadata": {},
   "source": [
    "## the first dataset"
   ]
  },
  {
   "cell_type": "code",
   "execution_count": 770,
   "metadata": {
    "collapsed": false
   },
   "outputs": [
    {
     "data": {
      "text/html": [
       "<div>\n",
       "<table border=\"1\" class=\"dataframe\">\n",
       "  <thead>\n",
       "    <tr style=\"text-align: right;\">\n",
       "      <th></th>\n",
       "      <th>Store_Number</th>\n",
       "      <th>Sale_total_month</th>\n",
       "    </tr>\n",
       "  </thead>\n",
       "  <tbody>\n",
       "    <tr>\n",
       "      <th>0</th>\n",
       "      <td>2106</td>\n",
       "      <td>30523.75</td>\n",
       "    </tr>\n",
       "    <tr>\n",
       "      <th>1</th>\n",
       "      <td>2113</td>\n",
       "      <td>2065.90</td>\n",
       "    </tr>\n",
       "    <tr>\n",
       "      <th>2</th>\n",
       "      <td>2130</td>\n",
       "      <td>27856.11</td>\n",
       "    </tr>\n",
       "    <tr>\n",
       "      <th>3</th>\n",
       "      <td>2152</td>\n",
       "      <td>1376.43</td>\n",
       "    </tr>\n",
       "    <tr>\n",
       "      <th>4</th>\n",
       "      <td>2178</td>\n",
       "      <td>5588.50</td>\n",
       "    </tr>\n",
       "  </tbody>\n",
       "</table>\n",
       "</div>"
      ],
      "text/plain": [
       "   Store_Number  Sale_total_month\n",
       "0          2106          30523.75\n",
       "1          2113           2065.90\n",
       "2          2130          27856.11\n",
       "3          2152           1376.43\n",
       "4          2178           5588.50"
      ]
     },
     "execution_count": 770,
     "metadata": {},
     "output_type": "execute_result"
    }
   ],
   "source": [
    "df_total_16_group = df_total_16.groupby(by=['Store_Number','month'])['Sale_(Dollars)'].sum()\n",
    "d11 = pd.DataFrame(df_total_16_group)\n",
    "d11 = d11.reset_index() #Nathen help me withthis command\n",
    "d11.columns=['Store_Number','month','Sale_total_month']\n",
    "\n",
    "d2_2016_month_eachstore = copy.deepcopy(d11)\n",
    "e11 = d11[d11['Store_Number'].notnull() & (d11['month'] < 4)]\n",
    "e21 = e11.groupby(by=['Store_Number'])['Sale_total_month'].sum()\n",
    "d11 = pd.DataFrame(e21)\n",
    "d11 = d11.reset_index()\n",
    "\n",
    "## I have quarter sale for each store\n",
    "\n",
    "d11.head()"
   ]
  },
  {
   "cell_type": "code",
   "execution_count": 771,
   "metadata": {
    "collapsed": false
   },
   "outputs": [
    {
     "data": {
      "text/html": [
       "<div>\n",
       "<table border=\"1\" class=\"dataframe\">\n",
       "  <thead>\n",
       "    <tr style=\"text-align: right;\">\n",
       "      <th></th>\n",
       "      <th>Store_Number</th>\n",
       "      <th>Sale_total_year</th>\n",
       "    </tr>\n",
       "  </thead>\n",
       "  <tbody>\n",
       "    <tr>\n",
       "      <th>0</th>\n",
       "      <td>2106</td>\n",
       "      <td>30523.75</td>\n",
       "    </tr>\n",
       "    <tr>\n",
       "      <th>1</th>\n",
       "      <td>2113</td>\n",
       "      <td>2065.90</td>\n",
       "    </tr>\n",
       "    <tr>\n",
       "      <th>2</th>\n",
       "      <td>2130</td>\n",
       "      <td>27856.11</td>\n",
       "    </tr>\n",
       "    <tr>\n",
       "      <th>3</th>\n",
       "      <td>2152</td>\n",
       "      <td>1376.43</td>\n",
       "    </tr>\n",
       "    <tr>\n",
       "      <th>4</th>\n",
       "      <td>2178</td>\n",
       "      <td>5588.50</td>\n",
       "    </tr>\n",
       "  </tbody>\n",
       "</table>\n",
       "</div>"
      ],
      "text/plain": [
       "   Store_Number  Sale_total_year\n",
       "0          2106         30523.75\n",
       "1          2113          2065.90\n",
       "2          2130         27856.11\n",
       "3          2152          1376.43\n",
       "4          2178          5588.50"
      ]
     },
     "execution_count": 771,
     "metadata": {},
     "output_type": "execute_result"
    }
   ],
   "source": [
    "df_total_16_group2 = df_total_16.groupby(by=['Store_Number'])['Sale_(Dollars)'].sum()\n",
    "d21=pd.DataFrame(df_total_16_group2)\n",
    "d21 = d21.reset_index()\n",
    "d21.columns=['Store_Number','Sale_total_year']\n",
    "d2_2016_data_totalyear = copy.deepcopy(d21)\n",
    "\n",
    "d21.head()"
   ]
  },
  {
   "cell_type": "code",
   "execution_count": null,
   "metadata": {
    "collapsed": true
   },
   "outputs": [],
   "source": [
    "## statistical analysis\n",
    "df_county_df_16 = df_total_16.drop(['County','Sale_(Dollars)','month'], axis=1)\n",
    "df_county_df_16.shape\n",
    "df_county_df_16=df_county_df_16.sort('Store_Number').drop_duplicates(subset=['Store_Number'], take_last=True)\n",
    "finald_16=pd.merge(  df_county_df,d11,  how='outer')\n",
    "finald_16"
   ]
  },
  {
   "cell_type": "code",
   "execution_count": null,
   "metadata": {
    "collapsed": true
   },
   "outputs": [],
   "source": [
    "## using for my dataset to predict\n",
    "df_county_df_16 = df_total_16.drop(['County','Sale_(Dollars)','month'], axis=1)\n",
    "df_county_df_16.shape\n",
    "df_county_df_16=df_county_df_16.sort('Store_Number').drop_duplicates(subset=['Store_Number'], take_last=True)\n",
    "finald_16_new=pd.merge(  d11,df_county_df_16,  how='outer')\n",
    "finald_16_new"
   ]
  },
  {
   "cell_type": "markdown",
   "metadata": {},
   "source": [
    "## 28 new stores open in the first quarter."
   ]
  },
  {
   "cell_type": "markdown",
   "metadata": {},
   "source": [
    "## 63 stores closes during the first quarter or no data "
   ]
  },
  {
   "cell_type": "code",
   "execution_count": 687,
   "metadata": {
    "collapsed": false
   },
   "outputs": [
    {
     "data": {
      "text/plain": [
       "Index([    u'Store_Number', u'Sale_total_month',            u'Adams',\n",
       "              u'Allamakee',        u'Appanoose',          u'Audubon',\n",
       "                 u'Benton',       u'Black Hawk',            u'Boone',\n",
       "                 u'Bremer',\n",
       "       ...\n",
       "                u'Wapello',           u'Warren',       u'Washington',\n",
       "                  u'Wayne',          u'Webster',        u'Winnebago',\n",
       "             u'Winneshiek',         u'Woodbury',            u'Worth',\n",
       "                 u'Wright'],\n",
       "      dtype='object', length=101)"
      ]
     },
     "execution_count": 687,
     "metadata": {},
     "output_type": "execute_result"
    }
   ],
   "source": [
    "finald_16_new.columns"
   ]
  },
  {
   "cell_type": "code",
   "execution_count": 688,
   "metadata": {
    "collapsed": false
   },
   "outputs": [],
   "source": [
    "X_test_16 = finald_16_new\n",
    "X_test_16=pd.DataFrame(X_test_16)"
   ]
  },
  {
   "cell_type": "markdown",
   "metadata": {},
   "source": [
    "## predict the total sale of 2016"
   ]
  },
  {
   "cell_type": "code",
   "execution_count": 713,
   "metadata": {
    "collapsed": false
   },
   "outputs": [],
   "source": [
    "#pp=np.transpose(np.matrix(X_test_16))\n",
    "Y_pred_16 = linreg.predict(X_test_16_drop)"
   ]
  },
  {
   "cell_type": "code",
   "execution_count": 695,
   "metadata": {
    "collapsed": false
   },
   "outputs": [
    {
     "data": {
      "text/plain": [
       "array([ 137868.02563203,   10334.94780629,  125915.62436906, ...,\n",
       "          1256.12902494,    2080.9022419 ,    4075.20770696])"
      ]
     },
     "execution_count": 695,
     "metadata": {},
     "output_type": "execute_result"
    }
   ],
   "source": [
    "Y_pred_16"
   ]
  },
  {
   "cell_type": "code",
   "execution_count": 696,
   "metadata": {
    "collapsed": false
   },
   "outputs": [
    {
     "data": {
      "text/plain": [
       "1309"
      ]
     },
     "execution_count": 696,
     "metadata": {},
     "output_type": "execute_result"
    }
   ],
   "source": [
    "len(Y_pred_16)"
   ]
  },
  {
   "cell_type": "markdown",
   "metadata": {},
   "source": [
    "### prepare a dataset for store and county"
   ]
  },
  {
   "cell_type": "code",
   "execution_count": null,
   "metadata": {
    "collapsed": true
   },
   "outputs": [],
   "source": []
  }
 ],
 "metadata": {
  "anaconda-cloud": {},
  "kernelspec": {
   "display_name": "Python 2",
   "language": "python",
   "name": "python2"
  },
  "language_info": {
   "codemirror_mode": {
    "name": "ipython",
    "version": 2
   },
   "file_extension": ".py",
   "mimetype": "text/x-python",
   "name": "python",
   "nbconvert_exporter": "python",
   "pygments_lexer": "ipython2",
   "version": "2.7.12"
  }
 },
 "nbformat": 4,
 "nbformat_minor": 1
}
