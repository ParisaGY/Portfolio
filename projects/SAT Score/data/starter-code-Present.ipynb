{
 "cells": [
  {
   "cell_type": "markdown",
   "metadata": {},
   "source": [
    "# Project 1\n",
    "# Presented by Parisa\n",
    "# Friday December 2, 2016"
   ]
  },
  {
   "cell_type": "markdown",
   "metadata": {},
   "source": [
    "\n",
    "\n"
   ]
  },
  {
   "cell_type": "markdown",
   "metadata": {},
   "source": [
    "\n",
    "## Step 1: Open the `sat_scores.csv` file. Investigate the data, and answer the questions below.\n"
   ]
  },
  {
   "cell_type": "markdown",
   "metadata": {},
   "source": [
    "# Goal: "
   ]
  },
  {
   "cell_type": "markdown",
   "metadata": {},
   "source": [
    "##### 1. What does the data describe?\n",
    "##### 2. Does the data look complete? Are there any obvious issues with the observations?\n",
    "##### 3. Create a data dictionary for the dataset.\n",
    "    "
   ]
  },
  {
   "cell_type": "markdown",
   "metadata": {},
   "source": [
    "# My approach:"
   ]
  },
  {
   "cell_type": "markdown",
   "metadata": {},
   "source": [
    "##### - Reading the data \n",
    "##### - Creating a list of list and Dataframe version\n",
    "##### - Describe the data to find out if there is any error\n",
    "##### - Shape the data\n",
    "##### - Drop the last row\n",
    "##### - Seprate the header from the data to generate a dictionary\n",
    "\n"
   ]
  },
  {
   "cell_type": "markdown",
   "metadata": {},
   "source": [
    "# My code:"
   ]
  },
  {
   "cell_type": "markdown",
   "metadata": {
    "collapsed": false
   },
   "source": [
    "```` python\n",
    "import numpy as np\n",
    "import scipy.stats as stats\n",
    "import csv\n",
    "import seaborn as sns\n",
    "\n",
    "%matplotlib inline\n",
    "with open('sat_scores.csv') as f:\n",
    "    reader = csv.reader(f)\n",
    "    data_python_version = []\n",
    "    for row in reader:\n",
    "        data_python_version.append(row)\n",
    "print(data_python_version)\n",
    "print(len(data_python_version))\n",
    "import pandas as pd\n",
    "data_panda_version = pd.read_csv('sat_scores.csv', sep=',')\n",
    "print(data_panda_version)\n",
    "data_panda_version.describe(include='all')\n",
    "data_panda_version.shape\n",
    "data_panda_version.drop(data_panda_version.index[[51]],inplace = True)\n",
    "data_panda_version_no_last = data_panda_version\n",
    "data_panda_version_no_last.shape\n",
    "data_panda_version_no_last\n",
    "header = data_python_version[0]\n",
    "data = data_python_version[1:]\n",
    "print(header)\n",
    "grade_dic = {}\n",
    "\n",
    "for index, column_name in enumerate(header):\n",
    "    grade_dic[column_name] = []\n",
    "    for row in data:\n",
    "        grade_dic[column_name].append(row[index])\n",
    "print(grade_dic)\n",
    "````\n"
   ]
  },
  {
   "cell_type": "markdown",
   "metadata": {},
   "source": [
    "# Code results"
   ]
  },
  {
   "cell_type": "markdown",
   "metadata": {},
   "source": [
    "[['State', 'Rate', 'Verbal', 'Math'], ['CT', '82', '509', '510'], ['NJ', '81', '499', '513'], ['MA', '79', '511', '515'], ['NY', '77', '495', '505'], ['NH', '72', '520', '516'], ['RI', '71', '501', '499'], ['PA', '71', '500', '499'], ['VT', '69', '511', '506'], ['ME', '69', '506', '500'], ['VA', '68', '510', '501'], ['DE', '67', '501', '499'], ['MD', '65', '508', '510'], ['NC', '65', '493', '499'], ['GA', '63', '491', '489'], ['IN', '60', '499', '501'], ['SC', '57', '486', '488'], ['DC', '56', '482', '474'], ['OR', '55', '526', '526'], ['FL', '54', '498', '499'], ['WA', '53', '527', '527'], ['TX', '53', '493', '499'], ['HI', '52', '485', '515'], ['AK', '51', '514', '510'], ['CA', '51', '498', '517'], ['AZ', '34', '523', '525'], ['NV', '33', '509', '515'], ['CO', '31', '539', '542'], ['OH', '26', '534', '439'], ['MT', '23', '539', '539'], ['WV', '18', '527', '512'], ['ID', '17', '543', '542'], ['TN', '13', '562', '553'], ['NM', '13', '551', '542'], ['IL', '12', '576', '589'], ['KY', '12', '550', '550'], ['WY', '11', '547', '545'], ['MI', '11', '561', '572'], ['MN', '9', '580', '589'], ['KS', '9', '577', '580'], ['AL', '9', '559', '554'], ['NE', '8', '562', '568'], ['OK', '8', '567', '561'], ['MO', '8', '577', '577'], ['LA', '7', '564', '562'], ['WI', '6', '584', '596'], ['AR', '6', '562', '550'], ['UT', '5', '575', '570'], ['IA', '5', '593', '603'], ['SD', '4', '577', '582'], ['ND', '4', '592', '599'], ['MS', '4', '566', '551'], ['All', '45', '506', '514']]"
   ]
  },
  {
   "cell_type": "markdown",
   "metadata": {},
   "source": [
    "![data1](data1.png)"
   ]
  },
  {
   "cell_type": "markdown",
   "metadata": {},
   "source": [
    "{'Math': ['510', '513', '515', '505', '516', '499', '499', '506', '500', '501', '499', '510', '499', '489', '501', '488', '474', '526', '499', '527', '499', '515', '510', '517', '525', '515', '542', '439', '539', '512', '542', '553', '542', '589', '550', '545', '572', '589', '580', '554', '568', '561', '577', '562', '596', '550', '570', '603', '582', '599', '551', '514'], 'State': ['CT', 'NJ', 'MA', 'NY', 'NH', 'RI', 'PA', 'VT', 'ME', 'VA', 'DE', 'MD', 'NC', 'GA', 'IN', 'SC', 'DC', 'OR', 'FL', 'WA', 'TX', 'HI', 'AK', 'CA', 'AZ', 'NV', 'CO', 'OH', 'MT', 'WV', 'ID', 'TN', 'NM', 'IL', 'KY', 'WY', 'MI', 'MN', 'KS', 'AL', 'NE', 'OK', 'MO', 'LA', 'WI', 'AR', 'UT', 'IA', 'SD', 'ND', 'MS', 'All'], 'Rate': ['82', '81', '79', '77', '72', '71', '71', '69', '69', '68', '67', '65', '65', '63', '60', '57', '56', '55', '54', '53', '53', '52', '51', '51', '34', '33', '31', '26', '23', '18', '17', '13', '13', '12', '12', '11', '11', '9', '9', '9', '8', '8', '8', '7', '6', '6', '5', '5', '4', '4', '4', '45'], 'Verbal': ['509', '499', '511', '495', '520', '501', '500', '511', '506', '510', '501', '508', '493', '491', '499', '486', '482', '526', '498', '527', '493', '485', '514', '498', '523', '509', '539', '534', '539', '527', '543', '562', '551', '576', '550', '547', '561', '580', '577', '559', '562', '567', '577', '564', '584', '562', '575', '593', '577', '592', '566', '506']}"
   ]
  },
  {
   "cell_type": "markdown",
   "metadata": {},
   "source": [
    "# Answer to the question"
   ]
  },
  {
   "cell_type": "markdown",
   "metadata": {},
   "source": [
    "The data describe the avarage grade of students in math and verbal in different states\n",
    "There is an extra row locates at the end of the dataset.\n",
    "I remove the last row.\n"
   ]
  },
  {
   "cell_type": "markdown",
   "metadata": {},
   "source": [
    "## Step 2: Load the data."
   ]
  },
  {
   "cell_type": "markdown",
   "metadata": {},
   "source": [
    "# Goal:"
   ]
  },
  {
   "cell_type": "markdown",
   "metadata": {},
   "source": [
    "##### 4. Load the data into a list of lists\n",
    "#####  5. Print the data\n",
    "#####  6. Extract a list of the labels from the data, and remove them from the data.\n",
    "#####  7. Create a list of State names extracted from the data. (Hint: use the list of labels to index on the State column)¶\n",
    "#####  8. Print the types of each column\n",
    "#####  9. Do any types need to be reassigned? If so, go ahead and do it.\n",
    "#####  10. Create a dictionary for each column mapping the State to its respective value for that column.\n",
    "#####  11. Create a dictionary with the values for each of the numeric columns"
   ]
  },
  {
   "cell_type": "markdown",
   "metadata": {},
   "source": [
    "# My approach:"
   ]
  },
  {
   "cell_type": "markdown",
   "metadata": {},
   "source": [
    "##### - Load the data (list of list)\n",
    "##### - Print the data\n",
    "##### - Seprate header from the data\n",
    "##### - Find the type of the data and change it to int for 3 last column\n",
    "##### - Create a dictionary inside a dictionary"
   ]
  },
  {
   "cell_type": "markdown",
   "metadata": {},
   "source": [
    "# My code:"
   ]
  },
  {
   "cell_type": "markdown",
   "metadata": {},
   "source": [
    "```` python \n",
    "print(data_python_version)\n",
    "len(data_python_version)\n",
    "data_python_version_no_title = data_python_version[1:]\n",
    "data_python_version_no_title\n",
    "len(data_python_version_no_title )\n",
    "name_state = []\n",
    "for ii in range(len(data_python_version_no_title)):\n",
    "    name_state.append(data_python_version_no_title[ii][0])\n",
    "print(name_state)\n",
    "len(name_state)\n",
    "type(data_python_version_no_title[1][1])\n",
    "type(data_python_version_no_title[1][2])\n",
    "type(data_python_version_no_title[1][3]) \n",
    "for ii in range(len(data_python_version_no_title)):\n",
    "    data_python_version_no_title[ii][1] = int(data_python_version_no_title[ii][1])\n",
    "    data_python_version_no_title[ii][2] = int(data_python_version_no_title[ii][2])\n",
    "    data_python_version_no_title[ii][3] = int(data_python_version_no_title[ii][3])\n",
    "    \n",
    "type(data_python_version_no_title[1][1])\n",
    "data_python_version_no_title.pop(len(data_python_version_no_title)-1)\n",
    "data_python_version_no_title_no_end = data_python_version_no_title\n",
    "len(data_python_version_no_title_no_end)\n",
    "data_python_version_no_title_no_end\n",
    "header_2 = []\n",
    "d = data_python_version_no_title_no_end\n",
    "for row in d:\n",
    "    header_2.append(row[0])\n",
    "    del row[0]\n",
    "   \n",
    "data_2= d\n",
    "data_2\n",
    "professions_dict = {}\n",
    "for i in range(len(header_2)):\n",
    "    professions_dict[header_2[i]] = data_2[i]\n",
    "professions_dict\n",
    "data_panda_version_no_last\n",
    "````"
   ]
  },
  {
   "cell_type": "markdown",
   "metadata": {},
   "source": [
    "# Code results"
   ]
  },
  {
   "cell_type": "markdown",
   "metadata": {},
   "source": [
    "![data2](data2.png)"
   ]
  },
  {
   "cell_type": "markdown",
   "metadata": {},
   "source": [
    "# Answer to the question"
   ]
  },
  {
   "cell_type": "markdown",
   "metadata": {},
   "source": [
    "The type of the data in columns 1-4 needs to be 'int' instead of 'string'."
   ]
  },
  {
   "cell_type": "markdown",
   "metadata": {},
   "source": [
    "## Step 3: Describe the data"
   ]
  },
  {
   "cell_type": "markdown",
   "metadata": {},
   "source": [
    "# Goal:"
   ]
  },
  {
   "cell_type": "markdown",
   "metadata": {},
   "source": [
    "##### 12. Print the min and max of each column\n",
    "##### 13. Write a function using only list comprehensions, no loops, to compute Standard Deviation. Print the Standard Deviation of each numeric column."
   ]
  },
  {
   "cell_type": "markdown",
   "metadata": {},
   "source": [
    "# Approach:"
   ]
  },
  {
   "cell_type": "markdown",
   "metadata": {},
   "source": [
    "##### - Find the min and max for each column\n",
    "##### - Create two functions for mean and standard deviation\n",
    "##### - Test for each column"
   ]
  },
  {
   "cell_type": "markdown",
   "metadata": {},
   "source": [
    "# My code:"
   ]
  },
  {
   "cell_type": "markdown",
   "metadata": {},
   "source": [
    "````` python\n",
    "data_panda_version_no_last.loc[data_panda_version_no_last['Rate'].idxmax()]\n",
    "data_panda_version_no_last.loc[data_panda_version_no_last['Math'].idxmax()]\n",
    "data_panda_version_no_last.loc[data_panda_version_no_last['Verbal'].idxmax()]\n",
    "data_panda_version_no_last.loc[data_panda_version_no_last['Math'].idxmin()]\n",
    "data_panda_version_no_last.loc[data_panda_version_no_last['Verbal'].idxmin()]\n",
    "data_panda_version_no_last.loc[data_panda_version_no_last['Rate'].idxmax()]from math import sqrt\n",
    "def mean(lst):\n",
    "    \"\"\"calculates mean\"\"\"\n",
    "    return sum(lst) / len(lst)\n",
    "\n",
    "def stddev(lst):\n",
    "    \"\"\"returns the standard deviation of lst\"\"\"\n",
    "    mn = mean(lst)\n",
    "    variance = sum([(e-mn)**2 for e in lst]) / len(lst)\n",
    "    return sqrt(variance)\n",
    "mean(data_panda_version_no_last['Rate'])\n",
    "mean(data_panda_version_no_last['Math'])\n",
    "mean(data_panda_version_no_last['Verbal'])\n",
    "stddev(data_panda_version_no_last['Rate'])\n",
    "stddev(data_panda_version_no_last['Math'])\n",
    "stddev(data_panda_version_no_last['Verbal'])\n",
    "`````"
   ]
  },
  {
   "cell_type": "markdown",
   "metadata": {},
   "source": [
    "# Code result:"
   ]
  },
  {
   "cell_type": "markdown",
   "metadata": {},
   "source": [
    "```` python \n",
    "Iowa highest grade for verbal and Math\n",
    "Ohio low Math\n",
    "Dc low Verbal\n",
    "````"
   ]
  },
  {
   "cell_type": "markdown",
   "metadata": {},
   "source": [
    "## Step 4: Visualize the data"
   ]
  },
  {
   "cell_type": "markdown",
   "metadata": {},
   "source": [
    "# Goal:"
   ]
  },
  {
   "cell_type": "markdown",
   "metadata": {},
   "source": [
    "##### 14. Using MatPlotLib and PyPlot, plot the distribution of the Rate using histograms.\n",
    "##### 15. Plot the Math distribution\n",
    "##### 16. Plot the Verbal distribution\n",
    "##### 17. What is the typical assumption for data distribution?\n",
    "##### 18. Does that distribution hold true for our data?\n",
    "##### 19. Plot some scatterplots. BONUS: Use a PyPlot figure to present multiple plots at once.\n",
    "##### 20. Are there any interesting relationships to note?\n",
    "##### 21. Create box plots for each variable."
   ]
  },
  {
   "cell_type": "markdown",
   "metadata": {},
   "source": [
    "# Approach:"
   ]
  },
  {
   "cell_type": "markdown",
   "metadata": {},
   "source": [
    "##### - Using different command to generate the plots"
   ]
  },
  {
   "cell_type": "markdown",
   "metadata": {},
   "source": [
    "# My code:"
   ]
  },
  {
   "cell_type": "markdown",
   "metadata": {},
   "source": [
    "```` python\n",
    "import pandas as pd\n",
    "import matplotlib.pyplot as plt\n",
    "\n",
    "# display plots in the notebook\n",
    "from IPython import get_ipython\n",
    "get_ipython().run_line_magic('matplotlib', 'inline')\n",
    "data_panda_version_no_last.Rate.plot(kind='hist', bins=20)\n",
    "sns.distplot(data_panda_version_no_last['Rate'])\n",
    "sns.distplot(data_panda_version_no_last['Math'])\n",
    "sns.distplot(data_panda_version_no_last['Verbal'])\n",
    "data_panda_version_no_last.plot(kind='scatter', x='Math', y='Rate')\n",
    "data_panda_version_no_last.plot(kind='scatter', x='Verbal', y='Rate')\n",
    "data_panda_version_no_last.plot(kind='scatter', x='Verbal', y='Math')\n",
    "data_panda_version_no_last.Math.plot(kind='box')\n",
    "data_panda_version_no_last.Verbal.plot(kind='box')\n",
    "data_panda_version_no_last.Rate.plot(kind='box')\n",
    "````"
   ]
  },
  {
   "cell_type": "markdown",
   "metadata": {},
   "source": [
    "# Code result:"
   ]
  },
  {
   "cell_type": "code",
   "execution_count": null,
   "metadata": {
    "collapsed": true
   },
   "outputs": [],
   "source": [
    "![Math-box](Math-box.png)\n",
    "![Verbal-box](Verbal-box.png)\n",
    "![Rate-box](Rate-box.png)\n",
    "\n",
    "![Math-Dis](Math-Dis.png)\n",
    "![Verbal-Dis](Verbal-Dis.png)\n",
    "![Rate-Dis](Rate-Dis.png)\n",
    "\n",
    "![Verbal-Rate-Scat](Verbal-Rate-Scat.png)\n",
    "![Math-Rate-Scat](Math-Rate-Scat.png)"
   ]
  },
  {
   "cell_type": "markdown",
   "metadata": {},
   "source": [
    "![HIst-rate-qa](HIst-rate-qa.png)"
   ]
  },
  {
   "cell_type": "markdown",
   "metadata": {},
   "source": [
    "![figure_1](figure_1.png)"
   ]
  },
  {
   "cell_type": "markdown",
   "metadata": {},
   "source": [
    "# Summary"
   ]
  }
 ],
 "metadata": {
  "anaconda-cloud": {},
  "kernelspec": {
   "display_name": "Python 2",
   "language": "python",
   "name": "python2"
  },
  "language_info": {
   "codemirror_mode": {
    "name": "ipython",
    "version": 2
   },
   "file_extension": ".py",
   "mimetype": "text/x-python",
   "name": "python",
   "nbconvert_exporter": "python",
   "pygments_lexer": "ipython2",
   "version": "2.7.12"
  }
 },
 "nbformat": 4,
 "nbformat_minor": 0
}
